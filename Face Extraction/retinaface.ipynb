{
 "cells": [
  {
   "cell_type": "code",
   "execution_count": 2,
   "id": "59484f9e-f5fd-4cc6-86b3-0c86a705982c",
   "metadata": {},
   "outputs": [
    {
     "name": "stdout",
     "output_type": "stream",
     "text": [
      "Requirement already satisfied: retina-face in c:\\users\\rohan\\anaconda3\\lib\\site-packages (0.0.17)\n",
      "Requirement already satisfied: numpy>=1.14.0 in c:\\users\\rohan\\anaconda3\\lib\\site-packages (from retina-face) (1.19.5)\n",
      "Requirement already satisfied: gdown>=3.10.1 in c:\\users\\rohan\\anaconda3\\lib\\site-packages (from retina-face) (5.2.0)\n",
      "Requirement already satisfied: Pillow>=5.2.0 in c:\\users\\rohan\\anaconda3\\lib\\site-packages (from retina-face) (10.4.0)\n",
      "Requirement already satisfied: opencv-python>=3.4.4 in c:\\users\\rohan\\anaconda3\\lib\\site-packages (from retina-face) (4.10.0.84)\n",
      "Requirement already satisfied: tensorflow>=1.9.0 in c:\\users\\rohan\\anaconda3\\lib\\site-packages (from retina-face) (2.17.0)\n",
      "Requirement already satisfied: beautifulsoup4 in c:\\users\\rohan\\anaconda3\\lib\\site-packages (from gdown>=3.10.1->retina-face) (4.12.3)\n",
      "Requirement already satisfied: filelock in c:\\users\\rohan\\anaconda3\\lib\\site-packages (from gdown>=3.10.1->retina-face) (3.13.1)\n",
      "Requirement already satisfied: requests[socks] in c:\\users\\rohan\\anaconda3\\lib\\site-packages (from gdown>=3.10.1->retina-face) (2.32.3)\n",
      "Requirement already satisfied: tqdm in c:\\users\\rohan\\anaconda3\\lib\\site-packages (from gdown>=3.10.1->retina-face) (4.66.4)\n",
      "Requirement already satisfied: tensorflow-intel==2.17.0 in c:\\users\\rohan\\anaconda3\\lib\\site-packages (from tensorflow>=1.9.0->retina-face) (2.17.0)\n",
      "Collecting absl-py>=1.0.0 (from tensorflow-intel==2.17.0->tensorflow>=1.9.0->retina-face)\n",
      "  Using cached absl_py-2.1.0-py3-none-any.whl.metadata (2.3 kB)\n",
      "Requirement already satisfied: astunparse>=1.6.0 in c:\\users\\rohan\\anaconda3\\lib\\site-packages (from tensorflow-intel==2.17.0->tensorflow>=1.9.0->retina-face) (1.6.3)\n",
      "Collecting flatbuffers>=24.3.25 (from tensorflow-intel==2.17.0->tensorflow>=1.9.0->retina-face)\n",
      "  Using cached flatbuffers-24.3.25-py2.py3-none-any.whl.metadata (850 bytes)\n",
      "Requirement already satisfied: gast!=0.5.0,!=0.5.1,!=0.5.2,>=0.2.1 in c:\\users\\rohan\\anaconda3\\lib\\site-packages (from tensorflow-intel==2.17.0->tensorflow>=1.9.0->retina-face) (0.4.0)\n",
      "Requirement already satisfied: google-pasta>=0.1.1 in c:\\users\\rohan\\anaconda3\\lib\\site-packages (from tensorflow-intel==2.17.0->tensorflow>=1.9.0->retina-face) (0.2.0)\n",
      "Collecting h5py>=3.10.0 (from tensorflow-intel==2.17.0->tensorflow>=1.9.0->retina-face)\n",
      "  Using cached h5py-3.12.1-cp39-cp39-win_amd64.whl.metadata (2.5 kB)\n",
      "Requirement already satisfied: libclang>=13.0.0 in c:\\users\\rohan\\anaconda3\\lib\\site-packages (from tensorflow-intel==2.17.0->tensorflow>=1.9.0->retina-face) (18.1.1)\n",
      "Requirement already satisfied: ml-dtypes<0.5.0,>=0.3.1 in c:\\users\\rohan\\anaconda3\\lib\\site-packages (from tensorflow-intel==2.17.0->tensorflow>=1.9.0->retina-face) (0.4.0)\n",
      "Requirement already satisfied: opt-einsum>=2.3.2 in c:\\users\\rohan\\anaconda3\\lib\\site-packages (from tensorflow-intel==2.17.0->tensorflow>=1.9.0->retina-face) (3.3.0)\n",
      "Requirement already satisfied: packaging in c:\\users\\rohan\\anaconda3\\lib\\site-packages (from tensorflow-intel==2.17.0->tensorflow>=1.9.0->retina-face) (24.1)\n",
      "Requirement already satisfied: protobuf!=4.21.0,!=4.21.1,!=4.21.2,!=4.21.3,!=4.21.4,!=4.21.5,<5.0.0dev,>=3.20.3 in c:\\users\\rohan\\anaconda3\\lib\\site-packages (from tensorflow-intel==2.17.0->tensorflow>=1.9.0->retina-face) (3.20.3)\n",
      "Requirement already satisfied: setuptools in c:\\users\\rohan\\anaconda3\\lib\\site-packages (from tensorflow-intel==2.17.0->tensorflow>=1.9.0->retina-face) (69.5.1)\n",
      "Requirement already satisfied: six>=1.12.0 in c:\\users\\rohan\\anaconda3\\lib\\site-packages (from tensorflow-intel==2.17.0->tensorflow>=1.9.0->retina-face) (1.15.0)\n",
      "Requirement already satisfied: termcolor>=1.1.0 in c:\\users\\rohan\\anaconda3\\lib\\site-packages (from tensorflow-intel==2.17.0->tensorflow>=1.9.0->retina-face) (1.1.0)\n",
      "Requirement already satisfied: typing-extensions>=3.6.6 in c:\\users\\rohan\\anaconda3\\lib\\site-packages (from tensorflow-intel==2.17.0->tensorflow>=1.9.0->retina-face) (3.7.4.3)\n",
      "Requirement already satisfied: wrapt>=1.11.0 in c:\\users\\rohan\\anaconda3\\lib\\site-packages (from tensorflow-intel==2.17.0->tensorflow>=1.9.0->retina-face) (1.12.1)\n",
      "Requirement already satisfied: grpcio<2.0,>=1.24.3 in c:\\users\\rohan\\anaconda3\\lib\\site-packages (from tensorflow-intel==2.17.0->tensorflow>=1.9.0->retina-face) (1.34.1)\n",
      "Collecting tensorboard<2.18,>=2.17 (from tensorflow-intel==2.17.0->tensorflow>=1.9.0->retina-face)\n",
      "  Using cached tensorboard-2.17.1-py3-none-any.whl.metadata (1.6 kB)\n",
      "Requirement already satisfied: keras>=3.2.0 in c:\\users\\rohan\\anaconda3\\lib\\site-packages (from tensorflow-intel==2.17.0->tensorflow>=1.9.0->retina-face) (3.5.0)\n",
      "Requirement already satisfied: tensorflow-io-gcs-filesystem>=0.23.1 in c:\\users\\rohan\\anaconda3\\lib\\site-packages (from tensorflow-intel==2.17.0->tensorflow>=1.9.0->retina-face) (0.31.0)\n",
      "Collecting numpy>=1.14.0 (from retina-face)\n",
      "  Using cached numpy-1.26.4-cp39-cp39-win_amd64.whl.metadata (61 kB)\n",
      "Requirement already satisfied: soupsieve>1.2 in c:\\users\\rohan\\anaconda3\\lib\\site-packages (from beautifulsoup4->gdown>=3.10.1->retina-face) (2.5)\n",
      "Requirement already satisfied: charset-normalizer<4,>=2 in c:\\users\\rohan\\anaconda3\\lib\\site-packages (from requests[socks]->gdown>=3.10.1->retina-face) (3.3.2)\n",
      "Requirement already satisfied: idna<4,>=2.5 in c:\\users\\rohan\\anaconda3\\lib\\site-packages (from requests[socks]->gdown>=3.10.1->retina-face) (3.7)\n",
      "Requirement already satisfied: urllib3<3,>=1.21.1 in c:\\users\\rohan\\anaconda3\\lib\\site-packages (from requests[socks]->gdown>=3.10.1->retina-face) (2.2.2)\n",
      "Requirement already satisfied: certifi>=2017.4.17 in c:\\users\\rohan\\anaconda3\\lib\\site-packages (from requests[socks]->gdown>=3.10.1->retina-face) (2024.7.4)\n",
      "Requirement already satisfied: PySocks!=1.5.7,>=1.5.6 in c:\\users\\rohan\\anaconda3\\lib\\site-packages (from requests[socks]->gdown>=3.10.1->retina-face) (1.7.1)\n",
      "Requirement already satisfied: colorama in c:\\users\\rohan\\anaconda3\\lib\\site-packages (from tqdm->gdown>=3.10.1->retina-face) (0.4.6)\n",
      "Requirement already satisfied: wheel<1.0,>=0.23.0 in c:\\users\\rohan\\anaconda3\\lib\\site-packages (from astunparse>=1.6.0->tensorflow-intel==2.17.0->tensorflow>=1.9.0->retina-face) (0.43.0)\n",
      "Requirement already satisfied: rich in c:\\users\\rohan\\anaconda3\\lib\\site-packages (from keras>=3.2.0->tensorflow-intel==2.17.0->tensorflow>=1.9.0->retina-face) (13.7.1)\n",
      "Requirement already satisfied: namex in c:\\users\\rohan\\anaconda3\\lib\\site-packages (from keras>=3.2.0->tensorflow-intel==2.17.0->tensorflow>=1.9.0->retina-face) (0.0.8)\n",
      "Requirement already satisfied: optree in c:\\users\\rohan\\anaconda3\\lib\\site-packages (from keras>=3.2.0->tensorflow-intel==2.17.0->tensorflow>=1.9.0->retina-face) (0.12.1)\n",
      "Collecting grpcio<2.0,>=1.24.3 (from tensorflow-intel==2.17.0->tensorflow>=1.9.0->retina-face)\n",
      "  Using cached grpcio-1.66.2-cp39-cp39-win_amd64.whl.metadata (4.0 kB)\n",
      "Requirement already satisfied: markdown>=2.6.8 in c:\\users\\rohan\\anaconda3\\lib\\site-packages (from tensorboard<2.18,>=2.17->tensorflow-intel==2.17.0->tensorflow>=1.9.0->retina-face) (3.6)\n",
      "Collecting tensorboard-data-server<0.8.0,>=0.7.0 (from tensorboard<2.18,>=2.17->tensorflow-intel==2.17.0->tensorflow>=1.9.0->retina-face)\n",
      "  Using cached tensorboard_data_server-0.7.2-py3-none-any.whl.metadata (1.1 kB)\n",
      "Requirement already satisfied: werkzeug>=1.0.1 in c:\\users\\rohan\\anaconda3\\lib\\site-packages (from tensorboard<2.18,>=2.17->tensorflow-intel==2.17.0->tensorflow>=1.9.0->retina-face) (3.0.3)\n",
      "Requirement already satisfied: importlib-metadata>=4.4 in c:\\users\\rohan\\anaconda3\\lib\\site-packages (from markdown>=2.6.8->tensorboard<2.18,>=2.17->tensorflow-intel==2.17.0->tensorflow>=1.9.0->retina-face) (7.0.1)\n",
      "Requirement already satisfied: MarkupSafe>=2.1.1 in c:\\users\\rohan\\anaconda3\\lib\\site-packages (from werkzeug>=1.0.1->tensorboard<2.18,>=2.17->tensorflow-intel==2.17.0->tensorflow>=1.9.0->retina-face) (2.1.3)\n",
      "Collecting typing-extensions>=3.6.6 (from tensorflow-intel==2.17.0->tensorflow>=1.9.0->retina-face)\n",
      "  Using cached typing_extensions-4.12.2-py3-none-any.whl.metadata (3.0 kB)\n",
      "Requirement already satisfied: markdown-it-py>=2.2.0 in c:\\users\\rohan\\anaconda3\\lib\\site-packages (from rich->keras>=3.2.0->tensorflow-intel==2.17.0->tensorflow>=1.9.0->retina-face) (3.0.0)\n",
      "Requirement already satisfied: pygments<3.0.0,>=2.13.0 in c:\\users\\rohan\\anaconda3\\lib\\site-packages (from rich->keras>=3.2.0->tensorflow-intel==2.17.0->tensorflow>=1.9.0->retina-face) (2.18.0)\n",
      "Requirement already satisfied: zipp>=0.5 in c:\\users\\rohan\\anaconda3\\lib\\site-packages (from importlib-metadata>=4.4->markdown>=2.6.8->tensorboard<2.18,>=2.17->tensorflow-intel==2.17.0->tensorflow>=1.9.0->retina-face) (3.17.0)\n",
      "Requirement already satisfied: mdurl~=0.1 in c:\\users\\rohan\\anaconda3\\lib\\site-packages (from markdown-it-py>=2.2.0->rich->keras>=3.2.0->tensorflow-intel==2.17.0->tensorflow>=1.9.0->retina-face) (0.1.2)\n",
      "Using cached numpy-1.26.4-cp39-cp39-win_amd64.whl (15.8 MB)\n",
      "Using cached absl_py-2.1.0-py3-none-any.whl (133 kB)\n",
      "Using cached flatbuffers-24.3.25-py2.py3-none-any.whl (26 kB)\n",
      "Using cached h5py-3.12.1-cp39-cp39-win_amd64.whl (3.0 MB)\n",
      "Using cached tensorboard-2.17.1-py3-none-any.whl (5.5 MB)\n",
      "Using cached grpcio-1.66.2-cp39-cp39-win_amd64.whl (4.3 MB)\n",
      "Using cached tensorboard_data_server-0.7.2-py3-none-any.whl (2.4 kB)\n",
      "Using cached typing_extensions-4.12.2-py3-none-any.whl (37 kB)\n",
      "Installing collected packages: flatbuffers, typing-extensions, tensorboard-data-server, numpy, grpcio, absl-py, h5py, tensorboard\n",
      "  Attempting uninstall: flatbuffers\n",
      "    Found existing installation: flatbuffers 1.12\n",
      "    Uninstalling flatbuffers-1.12:\n",
      "      Successfully uninstalled flatbuffers-1.12\n",
      "  Attempting uninstall: typing-extensions\n",
      "    Found existing installation: typing-extensions 3.7.4.3\n",
      "    Uninstalling typing-extensions-3.7.4.3:\n",
      "      Successfully uninstalled typing-extensions-3.7.4.3\n",
      "  Attempting uninstall: tensorboard-data-server\n",
      "    Found existing installation: tensorboard-data-server 0.6.1\n",
      "    Uninstalling tensorboard-data-server-0.6.1:\n",
      "      Successfully uninstalled tensorboard-data-server-0.6.1\n",
      "  Attempting uninstall: numpy\n",
      "    Found existing installation: numpy 1.19.5\n",
      "    Uninstalling numpy-1.19.5:\n",
      "      Successfully uninstalled numpy-1.19.5\n",
      "  Attempting uninstall: grpcio\n",
      "    Found existing installation: grpcio 1.34.1\n",
      "    Uninstalling grpcio-1.34.1:\n",
      "      Successfully uninstalled grpcio-1.34.1\n",
      "  Attempting uninstall: absl-py\n",
      "    Found existing installation: absl-py 0.15.0\n",
      "    Uninstalling absl-py-0.15.0:\n",
      "      Successfully uninstalled absl-py-0.15.0\n",
      "  Attempting uninstall: h5py\n",
      "    Found existing installation: h5py 3.1.0\n",
      "    Uninstalling h5py-3.1.0:\n",
      "      Successfully uninstalled h5py-3.1.0\n",
      "  Attempting uninstall: tensorboard\n",
      "    Found existing installation: tensorboard 2.11.2\n",
      "    Uninstalling tensorboard-2.11.2:\n",
      "      Successfully uninstalled tensorboard-2.11.2\n",
      "Successfully installed absl-py-2.1.0 flatbuffers-24.3.25 grpcio-1.66.2 h5py-3.12.1 numpy-1.26.4 tensorboard-2.17.1 tensorboard-data-server-0.7.2 typing-extensions-4.12.2\n"
     ]
    },
    {
     "name": "stderr",
     "output_type": "stream",
     "text": [
      "ERROR: pip's dependency resolver does not currently take into account all the packages that are installed. This behaviour is the source of the following dependency conflicts.\n",
      "mediapipe 0.10.14 requires protobuf<5,>=4.25.3, but you have protobuf 3.20.3 which is incompatible.\n"
     ]
    }
   ],
   "source": [
    "!pip install retina-face"
   ]
  },
  {
   "cell_type": "code",
   "execution_count": 4,
   "id": "321c8ad7-1e6f-47b6-b7a0-fb9c343e4028",
   "metadata": {},
   "outputs": [
    {
     "name": "stdout",
     "output_type": "stream",
     "text": [
      "Collecting protobuf==4.25.3\n",
      "  Downloading protobuf-4.25.3-cp39-cp39-win_amd64.whl.metadata (541 bytes)\n",
      "Downloading protobuf-4.25.3-cp39-cp39-win_amd64.whl (413 kB)\n",
      "   ---------------------------------------- 0.0/413.4 kB ? eta -:--:--\n",
      "    --------------------------------------- 10.2/413.4 kB ? eta -:--:--\n",
      "   - ------------------------------------- 20.5/413.4 kB 162.5 kB/s eta 0:00:03\n",
      "   -- ------------------------------------ 30.7/413.4 kB 186.2 kB/s eta 0:00:03\n",
      "   ----- --------------------------------- 61.4/413.4 kB 297.7 kB/s eta 0:00:02\n",
      "   -------- ------------------------------ 92.2/413.4 kB 374.1 kB/s eta 0:00:01\n",
      "   ---------------- --------------------- 174.1/413.4 kB 615.9 kB/s eta 0:00:01\n",
      "   ------------------ ------------------- 204.8/413.4 kB 689.9 kB/s eta 0:00:01\n",
      "   --------------------------------- ---- 368.6/413.4 kB 995.6 kB/s eta 0:00:01\n",
      "   ---------------------------------------- 413.4/413.4 kB 1.1 MB/s eta 0:00:00\n",
      "Installing collected packages: protobuf\n",
      "  Attempting uninstall: protobuf\n",
      "    Found existing installation: protobuf 3.20.3\n",
      "    Uninstalling protobuf-3.20.3:\n",
      "      Successfully uninstalled protobuf-3.20.3\n",
      "Successfully installed protobuf-4.25.3\n"
     ]
    },
    {
     "name": "stderr",
     "output_type": "stream",
     "text": [
      "ERROR: pip's dependency resolver does not currently take into account all the packages that are installed. This behaviour is the source of the following dependency conflicts.\n",
      "streamlit 1.10.0 requires protobuf<4,>=3.12, but you have protobuf 4.25.3 which is incompatible.\n"
     ]
    }
   ],
   "source": [
    "!pip install protobuf==4.25.3\n"
   ]
  },
  {
   "cell_type": "code",
   "execution_count": null,
   "id": "87958602-858c-4762-94fd-cf21a26f5104",
   "metadata": {},
   "outputs": [],
   "source": []
  }
 ],
 "metadata": {
  "kernelspec": {
   "display_name": "Python 3 (ipykernel)",
   "language": "python",
   "name": "python3"
  },
  "language_info": {
   "codemirror_mode": {
    "name": "ipython",
    "version": 3
   },
   "file_extension": ".py",
   "mimetype": "text/x-python",
   "name": "python",
   "nbconvert_exporter": "python",
   "pygments_lexer": "ipython3",
   "version": "3.9.19"
  }
 },
 "nbformat": 4,
 "nbformat_minor": 5
}
